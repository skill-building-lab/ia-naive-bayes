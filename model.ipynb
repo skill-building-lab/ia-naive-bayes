{
 "cells": [
  {
   "cell_type": "code",
   "execution_count": 36,
   "id": "24b64a5e",
   "metadata": {},
   "outputs": [],
   "source": [
    "import pandas as pd\n",
    "from scipy.stats import shapiro\n",
    "import seaborn as sns\n",
    "import matplotlib.pyplot as plt\n",
    "\n",
    "from sklearn.model_selection import train_test_split\n",
    "from sklearn.naive_bayes import GaussianNB\n",
    "from sklearn.metrics import precision_score, accuracy_score, classification_report\n",
    "from sklearn.metrics import confusion_matrix, ConfusionMatrixDisplay\n",
    "\n",
    "import optuna\n"
   ]
  },
  {
   "cell_type": "markdown",
   "id": "81447e29",
   "metadata": {},
   "source": [
    "### Carregar os dados"
   ]
  },
  {
   "cell_type": "code",
   "execution_count": 37,
   "id": "1f7a97aa",
   "metadata": {},
   "outputs": [],
   "source": [
    "df_diabetes = pd.read_csv(\"diabetes.csv\")"
   ]
  },
  {
   "cell_type": "code",
   "execution_count": 38,
   "id": "76789157",
   "metadata": {},
   "outputs": [
    {
     "name": "stdout",
     "output_type": "stream",
     "text": [
      "<class 'pandas.core.frame.DataFrame'>\n",
      "RangeIndex: 995 entries, 0 to 994\n",
      "Data columns (total 3 columns):\n",
      " #   Column            Non-Null Count  Dtype\n",
      "---  ------            --------------  -----\n",
      " 0   glicemia          995 non-null    int64\n",
      " 1   pressao_arterial  995 non-null    int64\n",
      " 2   diabetes          995 non-null    int64\n",
      "dtypes: int64(3)\n",
      "memory usage: 23.4 KB\n"
     ]
    }
   ],
   "source": [
    "df_diabetes.info()"
   ]
  },
  {
   "cell_type": "code",
   "execution_count": 39,
   "id": "9ca80cd2",
   "metadata": {},
   "outputs": [
    {
     "data": {
      "text/html": [
       "<div>\n",
       "<style scoped>\n",
       "    .dataframe tbody tr th:only-of-type {\n",
       "        vertical-align: middle;\n",
       "    }\n",
       "\n",
       "    .dataframe tbody tr th {\n",
       "        vertical-align: top;\n",
       "    }\n",
       "\n",
       "    .dataframe thead th {\n",
       "        text-align: right;\n",
       "    }\n",
       "</style>\n",
       "<table border=\"1\" class=\"dataframe\">\n",
       "  <thead>\n",
       "    <tr style=\"text-align: right;\">\n",
       "      <th></th>\n",
       "      <th>glicemia</th>\n",
       "      <th>pressao_arterial</th>\n",
       "      <th>diabetes</th>\n",
       "    </tr>\n",
       "  </thead>\n",
       "  <tbody>\n",
       "    <tr>\n",
       "      <th>0</th>\n",
       "      <td>40</td>\n",
       "      <td>85</td>\n",
       "      <td>0</td>\n",
       "    </tr>\n",
       "    <tr>\n",
       "      <th>1</th>\n",
       "      <td>40</td>\n",
       "      <td>92</td>\n",
       "      <td>0</td>\n",
       "    </tr>\n",
       "    <tr>\n",
       "      <th>2</th>\n",
       "      <td>45</td>\n",
       "      <td>63</td>\n",
       "      <td>1</td>\n",
       "    </tr>\n",
       "    <tr>\n",
       "      <th>3</th>\n",
       "      <td>45</td>\n",
       "      <td>80</td>\n",
       "      <td>0</td>\n",
       "    </tr>\n",
       "    <tr>\n",
       "      <th>4</th>\n",
       "      <td>40</td>\n",
       "      <td>73</td>\n",
       "      <td>1</td>\n",
       "    </tr>\n",
       "  </tbody>\n",
       "</table>\n",
       "</div>"
      ],
      "text/plain": [
       "   glicemia  pressao_arterial  diabetes\n",
       "0        40                85         0\n",
       "1        40                92         0\n",
       "2        45                63         1\n",
       "3        45                80         0\n",
       "4        40                73         1"
      ]
     },
     "execution_count": 39,
     "metadata": {},
     "output_type": "execute_result"
    }
   ],
   "source": [
    "df_diabetes.head(5)"
   ]
  },
  {
   "cell_type": "code",
   "execution_count": 40,
   "id": "460e8b8e",
   "metadata": {},
   "outputs": [
    {
     "data": {
      "text/html": [
       "<div>\n",
       "<style scoped>\n",
       "    .dataframe tbody tr th:only-of-type {\n",
       "        vertical-align: middle;\n",
       "    }\n",
       "\n",
       "    .dataframe tbody tr th {\n",
       "        vertical-align: top;\n",
       "    }\n",
       "\n",
       "    .dataframe thead th {\n",
       "        text-align: right;\n",
       "    }\n",
       "</style>\n",
       "<table border=\"1\" class=\"dataframe\">\n",
       "  <thead>\n",
       "    <tr style=\"text-align: right;\">\n",
       "      <th></th>\n",
       "      <th>glicemia</th>\n",
       "      <th>pressao_arterial</th>\n",
       "      <th>diabetes</th>\n",
       "    </tr>\n",
       "  </thead>\n",
       "  <tbody>\n",
       "    <tr>\n",
       "      <th>990</th>\n",
       "      <td>45</td>\n",
       "      <td>87</td>\n",
       "      <td>0</td>\n",
       "    </tr>\n",
       "    <tr>\n",
       "      <th>991</th>\n",
       "      <td>40</td>\n",
       "      <td>83</td>\n",
       "      <td>0</td>\n",
       "    </tr>\n",
       "    <tr>\n",
       "      <th>992</th>\n",
       "      <td>40</td>\n",
       "      <td>83</td>\n",
       "      <td>0</td>\n",
       "    </tr>\n",
       "    <tr>\n",
       "      <th>993</th>\n",
       "      <td>40</td>\n",
       "      <td>60</td>\n",
       "      <td>1</td>\n",
       "    </tr>\n",
       "    <tr>\n",
       "      <th>994</th>\n",
       "      <td>45</td>\n",
       "      <td>82</td>\n",
       "      <td>0</td>\n",
       "    </tr>\n",
       "  </tbody>\n",
       "</table>\n",
       "</div>"
      ],
      "text/plain": [
       "     glicemia  pressao_arterial  diabetes\n",
       "990        45                87         0\n",
       "991        40                83         0\n",
       "992        40                83         0\n",
       "993        40                60         1\n",
       "994        45                82         0"
      ]
     },
     "execution_count": 40,
     "metadata": {},
     "output_type": "execute_result"
    }
   ],
   "source": [
    "df_diabetes.tail(5)"
   ]
  },
  {
   "cell_type": "code",
   "execution_count": 41,
   "id": "d620e5ea",
   "metadata": {},
   "outputs": [
    {
     "data": {
      "text/plain": [
       "array([0, 1])"
      ]
     },
     "execution_count": 41,
     "metadata": {},
     "output_type": "execute_result"
    }
   ],
   "source": [
    "df_diabetes[\"diabetes\"].unique()"
   ]
  },
  {
   "cell_type": "code",
   "execution_count": 42,
   "id": "32cf7305",
   "metadata": {},
   "outputs": [
    {
     "data": {
      "text/plain": [
       "diabetes\n",
       "1    498\n",
       "0    497\n",
       "Name: count, dtype: int64"
      ]
     },
     "execution_count": 42,
     "metadata": {},
     "output_type": "execute_result"
    }
   ],
   "source": [
    "df_diabetes[\"diabetes\"].value_counts()"
   ]
  },
  {
   "cell_type": "code",
   "execution_count": 43,
   "id": "aeeebfd4",
   "metadata": {},
   "outputs": [
    {
     "data": {
      "text/plain": [
       "diabetes\n",
       "1    0.500503\n",
       "0    0.499497\n",
       "Name: proportion, dtype: float64"
      ]
     },
     "execution_count": 43,
     "metadata": {},
     "output_type": "execute_result"
    }
   ],
   "source": [
    "df_diabetes[\"diabetes\"].value_counts(normalize=True)"
   ]
  },
  {
   "cell_type": "code",
   "execution_count": 44,
   "id": "878ef1c7",
   "metadata": {},
   "outputs": [
    {
     "data": {
      "image/png": "[encoded data removed]",
      "text/plain": [
       "<Figure size 640x480 with 1 Axes>"
      ]
     },
     "metadata": {},
     "output_type": "display_data"
    }
   ],
   "source": [
    "# Gráfico de barras da variável diabetes\n",
    "total = len(df_diabetes)\n",
    "\n",
    "ax = sns.countplot(\n",
    "    data=df_diabetes,\n",
    "    x=\"diabetes\",\n",
    "    hue=\"diabetes\",\n",
    "    order=df_diabetes[\"diabetes\"].value_counts().index\n",
    ")\n",
    "\n",
    "for container in ax.containers:\n",
    "    ax.bar_label(container, labels=[f\"{int(v)} ({round((v / total) * 100, 2)}%)\" for v in container.datavalues])\n",
    "\n",
    "plt.title(\"Distribuição de diabetes\")\n",
    "plt.ylabel('Quantidade')\n",
    "plt.show()"
   ]
  },
  {
   "cell_type": "code",
   "execution_count": 45,
   "id": "f017174e",
   "metadata": {},
   "outputs": [
    {
     "data": {
      "text/plain": [
       "Text(0, 0.5, 'Frequência')"
      ]
     },
     "execution_count": 45,
     "metadata": {},
     "output_type": "execute_result"
    },
    {
     "data": {
      "image/png": "[encoded data removed]",
      "text/plain": [
       "<Figure size 640x480 with 1 Axes>"
      ]
     },
     "metadata": {},
     "output_type": "display_data"
    }
   ],
   "source": [
    "# Histrograma da variável glicemia\n",
    "sns.histplot(data=df_diabetes, x=\"glicemia\", kde=False)\n",
    "\n",
    "plt.title(\"Histograma do Glicemia\")\n",
    "plt.xlabel(\"Glicemia\")\n",
    "plt.ylabel(\"Frequência\")"
   ]
  },
  {
   "cell_type": "code",
   "execution_count": 46,
   "id": "e012238c",
   "metadata": {},
   "outputs": [
    {
     "data": {
      "text/plain": [
       "<Axes: ylabel='glicemia'>"
      ]
     },
     "execution_count": 46,
     "metadata": {},
     "output_type": "execute_result"
    },
    {
     "data": {
      "image/png": "[encoded data removed]",
      "text/plain": [
       "<Figure size 640x480 with 1 Axes>"
      ]
     },
     "metadata": {},
     "output_type": "display_data"
    }
   ],
   "source": [
    "# Boxplot da variável glicemia\n",
    "sns.boxplot(data=df_diabetes, y=\"glicemia\")"
   ]
  },
  {
   "cell_type": "code",
   "execution_count": 47,
   "id": "38a4c450",
   "metadata": {},
   "outputs": [
    {
     "data": {
      "text/plain": [
       "Text(0, 0.5, 'Frequência')"
      ]
     },
     "execution_count": 47,
     "metadata": {},
     "output_type": "execute_result"
    },
    {
     "data": {
      "image/png": "[encoded data removed]",
      "text/plain": [
       "<Figure size 640x480 with 1 Axes>"
      ]
     },
     "metadata": {},
     "output_type": "display_data"
    }
   ],
   "source": [
    "# Histrograma da variável pressão arterial\n",
    "sns.histplot(data=df_diabetes, x=\"pressao_arterial\", kde=False)\n",
    "\n",
    "plt.title(\"Histograma do Pressão Arterial\")\n",
    "plt.xlabel(\"Pressão Arterial\")\n",
    "plt.ylabel(\"Frequência\")"
   ]
  },
  {
   "cell_type": "code",
   "execution_count": 48,
   "id": "09191e2d",
   "metadata": {},
   "outputs": [
    {
     "data": {
      "text/plain": [
       "<Axes: ylabel='pressao_arterial'>"
      ]
     },
     "execution_count": 48,
     "metadata": {},
     "output_type": "execute_result"
    },
    {
     "data": {
      "image/png": "[encoded data removed]",
      "text/plain": [
       "<Figure size 640x480 with 1 Axes>"
      ]
     },
     "metadata": {},
     "output_type": "display_data"
    }
   ],
   "source": [
    "# Boxplot da variável pressão arterial\n",
    "sns.boxplot(data=df_diabetes, y=\"pressao_arterial\")"
   ]
  },
  {
   "cell_type": "code",
   "execution_count": 49,
   "id": "e64e3d7d",
   "metadata": {},
   "outputs": [
    {
     "data": {
      "image/png": "[encoded data removed]",
      "text/plain": [
       "<Figure size 640x480 with 2 Axes>"
      ]
     },
     "metadata": {},
     "output_type": "display_data"
    }
   ],
   "source": [
    "# Heatmap e matriz de correlação\n",
    "corr = df_diabetes.corr()\n",
    "\n",
    "sns.heatmap(corr, annot=True, fmt=\".2f\", cmap=\"coolwarm\", cbar=True)\n",
    "plt.title(\"Heatmap de Correlação\")\n",
    "plt.show()"
   ]
  },
  {
   "cell_type": "code",
   "execution_count": 50,
   "id": "4eea4166",
   "metadata": {},
   "outputs": [
    {
     "name": "stdout",
     "output_type": "stream",
     "text": [
      "Estatística do teste: 0.9321769909426705, p-value: 7.851797454813074e-21\n"
     ]
    }
   ],
   "source": [
    "stat, p_value = shapiro(df_diabetes[\"glicemia\"])\n",
    "print(f\"Estatística do teste: {stat}, p-value: {p_value}\")"
   ]
  },
  {
   "cell_type": "code",
   "execution_count": 51,
   "id": "80c06042",
   "metadata": {},
   "outputs": [
    {
     "name": "stdout",
     "output_type": "stream",
     "text": [
      "Estatística do teste: 0.9708248310894475, p-value: 3.022068208530379e-13\n"
     ]
    }
   ],
   "source": [
    "stat, p_value = shapiro(df_diabetes[\"pressao_arterial\"])\n",
    "print(f\"Estatística do teste: {stat}, p-value: {p_value}\")"
   ]
  },
  {
   "cell_type": "markdown",
   "id": "d275ef41",
   "metadata": {},
   "source": [
    "As duas variáveis independentes rejeitam a hipótese de elas seguem uma distribuição normal, pois os seus valores de p-value no teste do shapiro são menores que 0,05. Existe um associação negativa entre as variáveis pressão arterial e diabetes. Já a associação entre a glicemia e diabetes não é tão forte."
   ]
  },
  {
   "cell_type": "markdown",
   "id": "b78f1c95",
   "metadata": {},
   "source": [
    "### Modelo Naive-Bayes"
   ]
  },
  {
   "cell_type": "code",
   "execution_count": 52,
   "id": "2dff91c2",
   "metadata": {},
   "outputs": [],
   "source": [
    "# Separar features da target\n",
    "X = df_diabetes.drop(columns=[\"diabetes\"])\n",
    "y = df_diabetes[\"diabetes\"]\n"
   ]
  },
  {
   "cell_type": "code",
   "execution_count": 53,
   "id": "31f3d5c9",
   "metadata": {},
   "outputs": [],
   "source": [
    "# Dividir base de dados em amostras de treino e teste\n",
    "X_train, X_test, y_train, y_test = train_test_split(X, y, test_size=0.3, random_state=51)"
   ]
  },
  {
   "cell_type": "code",
   "execution_count": 54,
   "id": "0bf686d0",
   "metadata": {},
   "outputs": [
    {
     "name": "stderr",
     "output_type": "stream",
     "text": [
      "[I 2025-09-29 09:11:24,391] A new study created in memory with name: no-name-28e9492d-70fe-414c-b147-f76a19ffdea9\n",
      "[I 2025-09-29 09:11:24,395] Trial 0 finished with value: 0.9545454545454546 and parameters: {'blood_glucose': True, 'blood_pressure': True}. Best is trial 0 with value: 0.9545454545454546.\n",
      "[I 2025-09-29 09:11:24,396] Trial 1 finished with value: 0.0 and parameters: {'blood_glucose': False, 'blood_pressure': False}. Best is trial 0 with value: 0.9545454545454546.\n",
      "[I 2025-09-29 09:11:24,397] Trial 2 finished with value: 0.0 and parameters: {'blood_glucose': False, 'blood_pressure': False}. Best is trial 0 with value: 0.9545454545454546.\n",
      "[I 2025-09-29 09:11:24,400] Trial 3 finished with value: 0.9545454545454546 and parameters: {'blood_glucose': True, 'blood_pressure': True}. Best is trial 0 with value: 0.9545454545454546.\n",
      "[I 2025-09-29 09:11:24,400] Trial 4 finished with value: 0.0 and parameters: {'blood_glucose': False, 'blood_pressure': False}. Best is trial 0 with value: 0.9545454545454546.\n",
      "[I 2025-09-29 09:11:24,404] Trial 5 finished with value: 0.75 and parameters: {'blood_glucose': True, 'blood_pressure': False}. Best is trial 0 with value: 0.9545454545454546.\n",
      "[I 2025-09-29 09:11:24,407] Trial 6 finished with value: 0.9655172413793104 and parameters: {'blood_glucose': False, 'blood_pressure': True}. Best is trial 6 with value: 0.9655172413793104.\n",
      "[I 2025-09-29 09:11:24,410] Trial 7 finished with value: 0.75 and parameters: {'blood_glucose': True, 'blood_pressure': False}. Best is trial 6 with value: 0.9655172413793104.\n",
      "[I 2025-09-29 09:11:24,413] Trial 8 finished with value: 0.9545454545454546 and parameters: {'blood_glucose': True, 'blood_pressure': True}. Best is trial 6 with value: 0.9655172413793104.\n",
      "[I 2025-09-29 09:11:24,417] Trial 9 finished with value: 0.9545454545454546 and parameters: {'blood_glucose': True, 'blood_pressure': True}. Best is trial 6 with value: 0.9655172413793104.\n",
      "[I 2025-09-29 09:11:24,420] Trial 10 finished with value: 0.9655172413793104 and parameters: {'blood_glucose': False, 'blood_pressure': True}. Best is trial 6 with value: 0.9655172413793104.\n",
      "[I 2025-09-29 09:11:24,422] Trial 11 finished with value: 0.9655172413793104 and parameters: {'blood_glucose': False, 'blood_pressure': True}. Best is trial 6 with value: 0.9655172413793104.\n",
      "[I 2025-09-29 09:11:24,427] Trial 12 finished with value: 0.9655172413793104 and parameters: {'blood_glucose': False, 'blood_pressure': True}. Best is trial 6 with value: 0.9655172413793104.\n",
      "[I 2025-09-29 09:11:24,431] Trial 13 finished with value: 0.9655172413793104 and parameters: {'blood_glucose': False, 'blood_pressure': True}. Best is trial 6 with value: 0.9655172413793104.\n",
      "[I 2025-09-29 09:11:24,435] Trial 14 finished with value: 0.9655172413793104 and parameters: {'blood_glucose': False, 'blood_pressure': True}. Best is trial 6 with value: 0.9655172413793104.\n",
      "[I 2025-09-29 09:11:24,438] Trial 15 finished with value: 0.9655172413793104 and parameters: {'blood_glucose': False, 'blood_pressure': True}. Best is trial 6 with value: 0.9655172413793104.\n",
      "[I 2025-09-29 09:11:24,442] Trial 16 finished with value: 0.9655172413793104 and parameters: {'blood_glucose': False, 'blood_pressure': True}. Best is trial 6 with value: 0.9655172413793104.\n",
      "[I 2025-09-29 09:11:24,446] Trial 17 finished with value: 0.9655172413793104 and parameters: {'blood_glucose': False, 'blood_pressure': True}. Best is trial 6 with value: 0.9655172413793104.\n",
      "[I 2025-09-29 09:11:24,449] Trial 18 finished with value: 0.9655172413793104 and parameters: {'blood_glucose': False, 'blood_pressure': True}. Best is trial 6 with value: 0.9655172413793104.\n",
      "[I 2025-09-29 09:11:24,453] Trial 19 finished with value: 0.9655172413793104 and parameters: {'blood_glucose': False, 'blood_pressure': True}. Best is trial 6 with value: 0.9655172413793104.\n",
      "[I 2025-09-29 09:11:24,456] Trial 20 finished with value: 0.9655172413793104 and parameters: {'blood_glucose': False, 'blood_pressure': True}. Best is trial 6 with value: 0.9655172413793104.\n",
      "[I 2025-09-29 09:11:24,460] Trial 21 finished with value: 0.9655172413793104 and parameters: {'blood_glucose': False, 'blood_pressure': True}. Best is trial 6 with value: 0.9655172413793104.\n",
      "[I 2025-09-29 09:11:24,464] Trial 22 finished with value: 0.9655172413793104 and parameters: {'blood_glucose': False, 'blood_pressure': True}. Best is trial 6 with value: 0.9655172413793104.\n",
      "[I 2025-09-29 09:11:24,468] Trial 23 finished with value: 0.9655172413793104 and parameters: {'blood_glucose': False, 'blood_pressure': True}. Best is trial 6 with value: 0.9655172413793104.\n",
      "[I 2025-09-29 09:11:24,472] Trial 24 finished with value: 0.9655172413793104 and parameters: {'blood_glucose': False, 'blood_pressure': True}. Best is trial 6 with value: 0.9655172413793104.\n",
      "[I 2025-09-29 09:11:24,476] Trial 25 finished with value: 0.9655172413793104 and parameters: {'blood_glucose': False, 'blood_pressure': True}. Best is trial 6 with value: 0.9655172413793104.\n",
      "[I 2025-09-29 09:11:24,477] Trial 26 finished with value: 0.0 and parameters: {'blood_glucose': False, 'blood_pressure': False}. Best is trial 6 with value: 0.9655172413793104.\n",
      "[I 2025-09-29 09:11:24,482] Trial 27 finished with value: 0.9655172413793104 and parameters: {'blood_glucose': False, 'blood_pressure': True}. Best is trial 6 with value: 0.9655172413793104.\n",
      "[I 2025-09-29 09:11:24,487] Trial 28 finished with value: 0.9655172413793104 and parameters: {'blood_glucose': False, 'blood_pressure': True}. Best is trial 6 with value: 0.9655172413793104.\n",
      "[I 2025-09-29 09:11:24,491] Trial 29 finished with value: 0.9545454545454546 and parameters: {'blood_glucose': True, 'blood_pressure': True}. Best is trial 6 with value: 0.9655172413793104.\n",
      "[I 2025-09-29 09:11:24,495] Trial 30 finished with value: 0.9655172413793104 and parameters: {'blood_glucose': False, 'blood_pressure': True}. Best is trial 6 with value: 0.9655172413793104.\n",
      "[I 2025-09-29 09:11:24,500] Trial 31 finished with value: 0.9655172413793104 and parameters: {'blood_glucose': False, 'blood_pressure': True}. Best is trial 6 with value: 0.9655172413793104.\n",
      "[I 2025-09-29 09:11:24,504] Trial 32 finished with value: 0.9655172413793104 and parameters: {'blood_glucose': False, 'blood_pressure': True}. Best is trial 6 with value: 0.9655172413793104.\n",
      "[I 2025-09-29 09:11:24,508] Trial 33 finished with value: 0.9655172413793104 and parameters: {'blood_glucose': False, 'blood_pressure': True}. Best is trial 6 with value: 0.9655172413793104.\n",
      "[I 2025-09-29 09:11:24,510] Trial 34 finished with value: 0.0 and parameters: {'blood_glucose': False, 'blood_pressure': False}. Best is trial 6 with value: 0.9655172413793104.\n",
      "[I 2025-09-29 09:11:24,515] Trial 35 finished with value: 0.9655172413793104 and parameters: {'blood_glucose': False, 'blood_pressure': True}. Best is trial 6 with value: 0.9655172413793104.\n",
      "[I 2025-09-29 09:11:24,516] Trial 36 finished with value: 0.0 and parameters: {'blood_glucose': False, 'blood_pressure': False}. Best is trial 6 with value: 0.9655172413793104.\n",
      "[I 2025-09-29 09:11:24,520] Trial 37 finished with value: 0.9545454545454546 and parameters: {'blood_glucose': True, 'blood_pressure': True}. Best is trial 6 with value: 0.9655172413793104.\n",
      "[I 2025-09-29 09:11:24,522] Trial 38 finished with value: 0.0 and parameters: {'blood_glucose': False, 'blood_pressure': False}. Best is trial 6 with value: 0.9655172413793104.\n",
      "[I 2025-09-29 09:11:24,527] Trial 39 finished with value: 0.9545454545454546 and parameters: {'blood_glucose': True, 'blood_pressure': True}. Best is trial 6 with value: 0.9655172413793104.\n",
      "[I 2025-09-29 09:11:24,531] Trial 40 finished with value: 0.9655172413793104 and parameters: {'blood_glucose': False, 'blood_pressure': True}. Best is trial 6 with value: 0.9655172413793104.\n",
      "[I 2025-09-29 09:11:24,535] Trial 41 finished with value: 0.9655172413793104 and parameters: {'blood_glucose': False, 'blood_pressure': True}. Best is trial 6 with value: 0.9655172413793104.\n",
      "[I 2025-09-29 09:11:24,540] Trial 42 finished with value: 0.9655172413793104 and parameters: {'blood_glucose': False, 'blood_pressure': True}. Best is trial 6 with value: 0.9655172413793104.\n",
      "[I 2025-09-29 09:11:24,544] Trial 43 finished with value: 0.9655172413793104 and parameters: {'blood_glucose': False, 'blood_pressure': True}. Best is trial 6 with value: 0.9655172413793104.\n",
      "[I 2025-09-29 09:11:24,548] Trial 44 finished with value: 0.9655172413793104 and parameters: {'blood_glucose': False, 'blood_pressure': True}. Best is trial 6 with value: 0.9655172413793104.\n",
      "[I 2025-09-29 09:11:24,553] Trial 45 finished with value: 0.9545454545454546 and parameters: {'blood_glucose': True, 'blood_pressure': True}. Best is trial 6 with value: 0.9655172413793104.\n",
      "[I 2025-09-29 09:11:24,556] Trial 46 finished with value: 0.0 and parameters: {'blood_glucose': False, 'blood_pressure': False}. Best is trial 6 with value: 0.9655172413793104.\n",
      "[I 2025-09-29 09:11:24,560] Trial 47 finished with value: 0.9655172413793104 and parameters: {'blood_glucose': False, 'blood_pressure': True}. Best is trial 6 with value: 0.9655172413793104.\n",
      "[I 2025-09-29 09:11:24,565] Trial 48 finished with value: 0.9655172413793104 and parameters: {'blood_glucose': False, 'blood_pressure': True}. Best is trial 6 with value: 0.9655172413793104.\n",
      "[I 2025-09-29 09:11:24,569] Trial 49 finished with value: 0.9655172413793104 and parameters: {'blood_glucose': False, 'blood_pressure': True}. Best is trial 6 with value: 0.9655172413793104.\n"
     ]
    },
    {
     "name": "stdout",
     "output_type": "stream",
     "text": [
      "Melhor precisão: 0.9655172413793104\n",
      "Melhores parâmetros: {'blood_glucose': False, 'blood_pressure': True}\n"
     ]
    }
   ],
   "source": [
    "# Otimização para selecionar features\n",
    "def f_obj(trial):\n",
    "    blood_glucose = trial.suggest_categorical(\"blood_glucose\", [True, False])\n",
    "    blood_pressure = trial.suggest_categorical(\"blood_pressure\", [True, False])\n",
    "\n",
    "    selected_features = []\n",
    "    if blood_glucose:\n",
    "        selected_features.append(\"glicemia\")\n",
    "    if blood_pressure:\n",
    "        selected_features.append(\"pressao_arterial\")\n",
    "    \n",
    "    if not selected_features:\n",
    "        return 0.0\n",
    "    \n",
    "    X_train_selected = X_train[selected_features]\n",
    "    X_test_selected = X_test[selected_features]\n",
    "\n",
    "    model = GaussianNB()\n",
    "    model.fit(X_train_selected, y_train)\n",
    "\n",
    "\n",
    "    y_pred = model.predict(X_test_selected)\n",
    "    precision = precision_score(y_test, y_pred, zero_division=1)\n",
    "\n",
    "    return precision\n",
    "\n",
    "study = optuna.create_study(direction=\"maximize\")\n",
    "study.optimize(f_obj, n_trials=50)\n",
    "\n",
    "print(f\"Melhor precisão: {study.best_value}\")\n",
    "print(f\"Melhores parâmetros: {study.best_params}\")"
   ]
  },
  {
   "cell_type": "code",
   "execution_count": 55,
   "id": "f1ad5700",
   "metadata": {},
   "outputs": [],
   "source": [
    "# Modelo final\n",
    "selected_best_features = []\n",
    "if study.best_params[\"blood_glucose\"]:\n",
    "    selected_best_features.append(\"glicemia\")\n",
    "if study.best_params[\"blood_pressure\"]:\n",
    "    selected_best_features.append(\"pressao_arterial\")\n",
    "\n",
    "X_train_best = X_train[selected_best_features]\n",
    "X_test_best = X_test[selected_best_features]\n",
    "\n",
    "optimized_model = GaussianNB()\n",
    "optimized_model.fit(X_train_best, y_train)\n",
    "\n",
    "y_pred_best = optimized_model.predict(X_test_best)\n",
    "best_precision = precision_score(y_test, y_pred_best, zero_division=1)"
   ]
  },
  {
   "cell_type": "code",
   "execution_count": 56,
   "id": "94b99c9a",
   "metadata": {},
   "outputs": [
    {
     "name": "stdout",
     "output_type": "stream",
     "text": [
      "\n",
      "Relatório de Classificação: \n",
      "               precision    recall  f1-score   support\n",
      "\n",
      "           0       0.89      0.96      0.93       142\n",
      "           1       0.97      0.89      0.93       157\n",
      "\n",
      "    accuracy                           0.93       299\n",
      "   macro avg       0.93      0.93      0.93       299\n",
      "weighted avg       0.93      0.93      0.93       299\n",
      "\n",
      "\n",
      "Matriz de Confusão: \n",
      " [[137   5]\n",
      " [ 17 140]]\n",
      "\n",
      "Acurácia: \n",
      " 0.9264214046822743\n"
     ]
    }
   ],
   "source": [
    "# Mostrar relatório\n",
    "report = classification_report(y_test, y_pred_best)\n",
    "print(\"\\nRelatório de Classificação: \\n\", report)\n",
    "\n",
    "matrix = confusion_matrix(y_test, y_pred_best)\n",
    "print(\"\\nMatriz de Confusão: \\n\", matrix)\n",
    "\n",
    "score = accuracy_score(y_test, y_pred_best)\n",
    "print(\"\\nAcurácia: \\n\", score)"
   ]
  },
  {
   "cell_type": "code",
   "execution_count": 57,
   "id": "95deb93a",
   "metadata": {},
   "outputs": [
    {
     "data": {
      "text/plain": [
       "<sklearn.metrics._plot.confusion_matrix.ConfusionMatrixDisplay at 0x2d3c0768470>"
      ]
     },
     "execution_count": 57,
     "metadata": {},
     "output_type": "execute_result"
    },
    {
     "data": {
      "image/png": "[encoded data removed]",
      "text/plain": [
       "<Figure size 640x480 with 2 Axes>"
      ]
     },
     "metadata": {},
     "output_type": "display_data"
    }
   ],
   "source": [
    "# Mostrar matriz de confusão\n",
    "confusion_matrix_model_baseline = confusion_matrix(y_test, y_pred_best)\n",
    "disp_model_baseline = ConfusionMatrixDisplay(confusion_matrix=confusion_matrix_model_baseline)\n",
    "disp_model_baseline.plot()"
   ]
  },
  {
   "cell_type": "markdown",
   "id": "6c2be814",
   "metadata": {},
   "source": [
    "Análise:\n",
    "\n",
    "Na análise exploratória de dados ficou claro que a variável glicemia possui uma associação fraca com a variável target diabetes, equanto que a variável pressão arterial já possui uma associação forte. Pornanto, ao rodar a otimização para selecionar as features mais relevantes para o modelo, a característica pressão arterial foi selecionada e a glicemia não foi selecionada. O valor de precisão do modelo final é igual a aproximadamente 97%. Ao avaliar esta precisão percebe-se que o modelo performou bem na classificação de diabetes.\n",
    "\n",
    "Relatório:\n",
    "\n",
    "- 97% das diabetes classificadas como positivas foram classificadas corretamente\n",
    "- 91% das diabetes classificadas como negativas foram classificadas corretamente\n",
    "- 93% de acerto nas classificações de diabetes\n",
    "- 89% das diabetes foram identificadas pelo modelo\n",
    "- 93% de f1-score refletinfo o equilíbrio entre recall e precisão\n",
    "\n",
    "Matriz de confusão:\n",
    "\n",
    "- Verdadeiros Positivos (diabetes positivas corretamente identificadas) = 140\n",
    "- Verdadeiros Negativos (diabetes negativas corretamente identificadas) = 137\n",
    "- Falsos Positivos (diabetes positivas classificadas incorretamente) = 5\n",
    "- Falsos Negativos (diabetes negativas classificadas incorretamente) = 17"
   ]
  }
 ],
 "metadata": {
  "kernelspec": {
   "display_name": "naive-bayes-PteE1ghR",
   "language": "python",
   "name": "python3"
  },
  "language_info": {
   "codemirror_mode": {
    "name": "ipython",
    "version": 3
   },
   "file_extension": ".py",
   "mimetype": "text/x-python",
   "name": "python",
   "nbconvert_exporter": "python",
   "pygments_lexer": "ipython3",
   "version": "3.12.5"
  }
 },
 "nbformat": 4,
 "nbformat_minor": 5
}
